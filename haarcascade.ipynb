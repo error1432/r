{
  "nbformat": 4,
  "nbformat_minor": 0,
  "metadata": {
    "colab": {
      "provenance": []
    },
    "kernelspec": {
      "name": "python3",
      "display_name": "Python 3"
    },
    "language_info": {
      "name": "python"
    }
  },
  "cells": [
    {
      "cell_type": "code",
      "execution_count": 3,
      "metadata": {
        "id": "AiM7f6AytJ5I"
      },
      "outputs": [],
      "source": [
        "import cv2\n",
        "import urllib.request\n",
        "import numpy as np\n",
        "from google.colab.patches import cv2_imshow"
      ]
    },
    {
      "cell_type": "code",
      "source": [
        "urllib.request.urlretrieve(\n",
        "    \"https://raw.githubusercontent.com/opencv/opencv/master/data/haarcascades/haarcascade_frontalface_default.xml\",\n",
        "    \"haarcascade_frontalface_default.xml\"\n",
        ")"
      ],
      "metadata": {
        "id": "FxzjoMWVvMlS"
      },
      "execution_count": null,
      "outputs": []
    },
    {
      "cell_type": "code",
      "source": [
        "urllib.request.urlretrieve(\n",
        "    \"https://raw.githubusercontent.com/opencv/opencv/master/data/haarcascades/haarcascade_eye.xml\",\n",
        "    \"haarcascade_eye.xml\")"
      ],
      "metadata": {
        "id": "Z__Jt0rath-R"
      },
      "execution_count": null,
      "outputs": []
    },
    {
      "cell_type": "code",
      "source": [
        "img_url = \"https://images.unsplash.com/photo-1488426862026-3ee34a7d66df?ixlib=rb-4.0.3&ixid=M3wxMjA3fDB8MHxwaG90by1wYWdlfHx8fGVufDB8fHx8fA%3D%3D&auto=format&fit=crop&w=387&q=80\"\n",
        "resp = urllib.request.urlopen(img_url)\n",
        "img = np.asarray(bytearray(resp.read()), dtype=\"uint8\")\n",
        "img = cv2.imdecode(img, cv2.IMREAD_COLOR)"
      ],
      "metadata": {
        "id": "Z9g4PK80vSVK"
      },
      "execution_count": 6,
      "outputs": []
    },
    {
      "cell_type": "code",
      "source": [
        "gray_img = cv2.cvtColor(img, cv2.COLOR_BGR2GRAY)\n"
      ],
      "metadata": {
        "id": "OmcvC9PRvYFp"
      },
      "execution_count": 7,
      "outputs": []
    },
    {
      "cell_type": "code",
      "source": [
        "face_cascade = cv2.CascadeClassifier(\"haarcascade_frontalface_default.xml\")\n",
        "eye_cascade = cv2.CascadeClassifier(\"haarcascade_eye.xml\")"
      ],
      "metadata": {
        "id": "VgXszgSWvbCb"
      },
      "execution_count": 9,
      "outputs": []
    },
    {
      "cell_type": "code",
      "source": [
        "for (x, y, w, h) in faces_rect:\n",
        "    cv2.rectangle(img, (x, y), (x+w, y+h), (0, 255, 0), 1)"
      ],
      "metadata": {
        "id": "uLsUqlVBvqGX"
      },
      "execution_count": 13,
      "outputs": []
    },
    {
      "cell_type": "code",
      "source": [
        "for (x, y, w, h) in faces_rect:\n",
        "    cv2.rectangle(img, (x, y), (x+w, y+h), (0, 255, 0), 1)"
      ],
      "metadata": {
        "id": "TT05Y-f5vePV"
      },
      "execution_count": 14,
      "outputs": []
    },
    {
      "cell_type": "code",
      "source": [
        "for (x, y, w, h) in faces_rect:\n",
        "    cv2.rectangle(img, (x, y), (x+w, y+h), (0, 255, 0), 1)"
      ],
      "metadata": {
        "id": "CZgejPdpv7jd"
      },
      "execution_count": 15,
      "outputs": []
    },
    {
      "cell_type": "code",
      "source": [
        "cv2_imshow(img)\n"
      ],
      "metadata": {
        "id": "Qv0QiGllv-29"
      },
      "execution_count": null,
      "outputs": []
    }
  ]
}